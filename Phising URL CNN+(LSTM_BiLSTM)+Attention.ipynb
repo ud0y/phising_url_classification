{
  "cells": [
    {
      "cell_type": "code",
      "execution_count": null,
      "metadata": {
        "colab": {
          "base_uri": "https://localhost:8080/"
        },
        "id": "uSJwv2OImVy9",
        "outputId": "3391957f-a5b1-471d-df86-12506fd7e915"
      },
      "outputs": [
        {
          "output_type": "stream",
          "name": "stdout",
          "text": [
            "--2023-05-26 04:01:55--  https://raw.githubusercontent.com/ksylvia16/Phishing-URL-Detection/main/data/url_original.csv\n",
            "Resolving raw.githubusercontent.com (raw.githubusercontent.com)... 185.199.108.133, 185.199.110.133, 185.199.111.133, ...\n",
            "Connecting to raw.githubusercontent.com (raw.githubusercontent.com)|185.199.108.133|:443... connected.\n",
            "HTTP request sent, awaiting response... 200 OK\n",
            "Length: 6678733 (6.4M) [text/plain]\n",
            "Saving to: ‘url_original.csv’\n",
            "\n",
            "url_original.csv    100%[===================>]   6.37M  --.-KB/s    in 0.08s   \n",
            "\n",
            "2023-05-26 04:01:55 (82.2 MB/s) - ‘url_original.csv’ saved [6678733/6678733]\n",
            "\n"
          ]
        }
      ],
      "source": [
        "!wget https://raw.githubusercontent.com/ksylvia16/Phishing-URL-Detection/main/data/url_original.csv"
      ]
    },
    {
      "cell_type": "code",
      "execution_count": null,
      "metadata": {
        "id": "uo6TOxOInw4z"
      },
      "outputs": [],
      "source": [
        "import pandas as pd\n",
        "df = pd.read_csv('url_original.csv', on_bad_lines='skip')"
      ]
    },
    {
      "cell_type": "code",
      "execution_count": null,
      "metadata": {
        "colab": {
          "base_uri": "https://localhost:8080/",
          "height": 206
        },
        "id": "dI9TVqNNomjP",
        "outputId": "ddaf4f29-c135-485b-a15d-c92b5064de19"
      },
      "outputs": [
        {
          "output_type": "execute_result",
          "data": {
            "text/plain": [
              "                                              domain  label\n",
              "0  nobell.it/70ffb52d079109dca5664cce6f317373782/...    1.0\n",
              "1  www.dghjdgf.com/paypal.co.uk/cycgi-bin/webscrc...    1.0\n",
              "2  serviciosbys.com/paypal.cgi.bin.get-into.herf....    1.0\n",
              "3  mail.printakid.com/www.online.americanexpress....    1.0\n",
              "4  thewhiskeydregs.com/wp-content/themes/widescre...    1.0"
            ],
            "text/html": [
              "\n",
              "  <div id=\"df-1944aedf-2b31-4443-aea8-8950c9115520\">\n",
              "    <div class=\"colab-df-container\">\n",
              "      <div>\n",
              "<style scoped>\n",
              "    .dataframe tbody tr th:only-of-type {\n",
              "        vertical-align: middle;\n",
              "    }\n",
              "\n",
              "    .dataframe tbody tr th {\n",
              "        vertical-align: top;\n",
              "    }\n",
              "\n",
              "    .dataframe thead th {\n",
              "        text-align: right;\n",
              "    }\n",
              "</style>\n",
              "<table border=\"1\" class=\"dataframe\">\n",
              "  <thead>\n",
              "    <tr style=\"text-align: right;\">\n",
              "      <th></th>\n",
              "      <th>domain</th>\n",
              "      <th>label</th>\n",
              "    </tr>\n",
              "  </thead>\n",
              "  <tbody>\n",
              "    <tr>\n",
              "      <th>0</th>\n",
              "      <td>nobell.it/70ffb52d079109dca5664cce6f317373782/...</td>\n",
              "      <td>1.0</td>\n",
              "    </tr>\n",
              "    <tr>\n",
              "      <th>1</th>\n",
              "      <td>www.dghjdgf.com/paypal.co.uk/cycgi-bin/webscrc...</td>\n",
              "      <td>1.0</td>\n",
              "    </tr>\n",
              "    <tr>\n",
              "      <th>2</th>\n",
              "      <td>serviciosbys.com/paypal.cgi.bin.get-into.herf....</td>\n",
              "      <td>1.0</td>\n",
              "    </tr>\n",
              "    <tr>\n",
              "      <th>3</th>\n",
              "      <td>mail.printakid.com/www.online.americanexpress....</td>\n",
              "      <td>1.0</td>\n",
              "    </tr>\n",
              "    <tr>\n",
              "      <th>4</th>\n",
              "      <td>thewhiskeydregs.com/wp-content/themes/widescre...</td>\n",
              "      <td>1.0</td>\n",
              "    </tr>\n",
              "  </tbody>\n",
              "</table>\n",
              "</div>\n",
              "      <button class=\"colab-df-convert\" onclick=\"convertToInteractive('df-1944aedf-2b31-4443-aea8-8950c9115520')\"\n",
              "              title=\"Convert this dataframe to an interactive table.\"\n",
              "              style=\"display:none;\">\n",
              "        \n",
              "  <svg xmlns=\"http://www.w3.org/2000/svg\" height=\"24px\"viewBox=\"0 0 24 24\"\n",
              "       width=\"24px\">\n",
              "    <path d=\"M0 0h24v24H0V0z\" fill=\"none\"/>\n",
              "    <path d=\"M18.56 5.44l.94 2.06.94-2.06 2.06-.94-2.06-.94-.94-2.06-.94 2.06-2.06.94zm-11 1L8.5 8.5l.94-2.06 2.06-.94-2.06-.94L8.5 2.5l-.94 2.06-2.06.94zm10 10l.94 2.06.94-2.06 2.06-.94-2.06-.94-.94-2.06-.94 2.06-2.06.94z\"/><path d=\"M17.41 7.96l-1.37-1.37c-.4-.4-.92-.59-1.43-.59-.52 0-1.04.2-1.43.59L10.3 9.45l-7.72 7.72c-.78.78-.78 2.05 0 2.83L4 21.41c.39.39.9.59 1.41.59.51 0 1.02-.2 1.41-.59l7.78-7.78 2.81-2.81c.8-.78.8-2.07 0-2.86zM5.41 20L4 18.59l7.72-7.72 1.47 1.35L5.41 20z\"/>\n",
              "  </svg>\n",
              "      </button>\n",
              "      \n",
              "  <style>\n",
              "    .colab-df-container {\n",
              "      display:flex;\n",
              "      flex-wrap:wrap;\n",
              "      gap: 12px;\n",
              "    }\n",
              "\n",
              "    .colab-df-convert {\n",
              "      background-color: #E8F0FE;\n",
              "      border: none;\n",
              "      border-radius: 50%;\n",
              "      cursor: pointer;\n",
              "      display: none;\n",
              "      fill: #1967D2;\n",
              "      height: 32px;\n",
              "      padding: 0 0 0 0;\n",
              "      width: 32px;\n",
              "    }\n",
              "\n",
              "    .colab-df-convert:hover {\n",
              "      background-color: #E2EBFA;\n",
              "      box-shadow: 0px 1px 2px rgba(60, 64, 67, 0.3), 0px 1px 3px 1px rgba(60, 64, 67, 0.15);\n",
              "      fill: #174EA6;\n",
              "    }\n",
              "\n",
              "    [theme=dark] .colab-df-convert {\n",
              "      background-color: #3B4455;\n",
              "      fill: #D2E3FC;\n",
              "    }\n",
              "\n",
              "    [theme=dark] .colab-df-convert:hover {\n",
              "      background-color: #434B5C;\n",
              "      box-shadow: 0px 1px 3px 1px rgba(0, 0, 0, 0.15);\n",
              "      filter: drop-shadow(0px 1px 2px rgba(0, 0, 0, 0.3));\n",
              "      fill: #FFFFFF;\n",
              "    }\n",
              "  </style>\n",
              "\n",
              "      <script>\n",
              "        const buttonEl =\n",
              "          document.querySelector('#df-1944aedf-2b31-4443-aea8-8950c9115520 button.colab-df-convert');\n",
              "        buttonEl.style.display =\n",
              "          google.colab.kernel.accessAllowed ? 'block' : 'none';\n",
              "\n",
              "        async function convertToInteractive(key) {\n",
              "          const element = document.querySelector('#df-1944aedf-2b31-4443-aea8-8950c9115520');\n",
              "          const dataTable =\n",
              "            await google.colab.kernel.invokeFunction('convertToInteractive',\n",
              "                                                     [key], {});\n",
              "          if (!dataTable) return;\n",
              "\n",
              "          const docLinkHtml = 'Like what you see? Visit the ' +\n",
              "            '<a target=\"_blank\" href=https://colab.research.google.com/notebooks/data_table.ipynb>data table notebook</a>'\n",
              "            + ' to learn more about interactive tables.';\n",
              "          element.innerHTML = '';\n",
              "          dataTable['output_type'] = 'display_data';\n",
              "          await google.colab.output.renderOutput(dataTable, element);\n",
              "          const docLink = document.createElement('div');\n",
              "          docLink.innerHTML = docLinkHtml;\n",
              "          element.appendChild(docLink);\n",
              "        }\n",
              "      </script>\n",
              "    </div>\n",
              "  </div>\n",
              "  "
            ]
          },
          "metadata": {},
          "execution_count": 3
        }
      ],
      "source": [
        "df.head()"
      ]
    },
    {
      "cell_type": "code",
      "execution_count": null,
      "metadata": {
        "colab": {
          "base_uri": "https://localhost:8080/"
        },
        "id": "Y5BwCH-GqN4q",
        "outputId": "508de901-2a48-43aa-d9f5-5f3fc9f38343"
      },
      "outputs": [
        {
          "output_type": "execute_result",
          "data": {
            "text/plain": [
              "False    95913\n",
              "True        92\n",
              "Name: label, dtype: int64"
            ]
          },
          "metadata": {},
          "execution_count": 4
        }
      ],
      "source": [
        "df.label.isna().value_counts()"
      ]
    },
    {
      "cell_type": "code",
      "execution_count": null,
      "metadata": {
        "colab": {
          "base_uri": "https://localhost:8080/"
        },
        "id": "wE8xjzSho53_",
        "outputId": "b0aad70f-d876-4f55-af74-eee09dab7e9b"
      },
      "outputs": [
        {
          "output_type": "execute_result",
          "data": {
            "text/plain": [
              "0.0    48009\n",
              "1.0    47904\n",
              "Name: label, dtype: int64"
            ]
          },
          "metadata": {},
          "execution_count": 5
        }
      ],
      "source": [
        "df.label.value_counts()"
      ]
    },
    {
      "cell_type": "code",
      "execution_count": null,
      "metadata": {
        "id": "o1IPy-66qglp"
      },
      "outputs": [],
      "source": [
        "df.dropna(inplace=True)"
      ]
    },
    {
      "cell_type": "code",
      "execution_count": null,
      "metadata": {
        "colab": {
          "base_uri": "https://localhost:8080/"
        },
        "id": "Skm0r2WFqvN5",
        "outputId": "97fb95e8-3384-475c-9260-c5381f4998ac"
      },
      "outputs": [
        {
          "output_type": "execute_result",
          "data": {
            "text/plain": [
              "False    95913\n",
              "Name: label, dtype: int64"
            ]
          },
          "metadata": {},
          "execution_count": 7
        }
      ],
      "source": [
        "df.label.isna().value_counts()"
      ]
    },
    {
      "cell_type": "code",
      "execution_count": null,
      "metadata": {
        "colab": {
          "base_uri": "https://localhost:8080/"
        },
        "id": "f0ODQHXjpLV9",
        "outputId": "aed846a0-cbc6-41ca-de2a-e83e8dfd52b0"
      },
      "outputs": [
        {
          "output_type": "execute_result",
          "data": {
            "text/plain": [
              "dtype('float64')"
            ]
          },
          "metadata": {},
          "execution_count": 8
        }
      ],
      "source": [
        "df.label.dtype"
      ]
    },
    {
      "cell_type": "code",
      "execution_count": null,
      "metadata": {
        "colab": {
          "base_uri": "https://localhost:8080/"
        },
        "id": "Hc1arMUjq1He",
        "outputId": "71d7b284-96e5-498c-a184-250c5e1bc8a2"
      },
      "outputs": [
        {
          "output_type": "execute_result",
          "data": {
            "text/plain": [
              "dtype('int64')"
            ]
          },
          "metadata": {},
          "execution_count": 9
        }
      ],
      "source": [
        "df.label = df.label.astype('int64')\n",
        "df.label.dtype"
      ]
    },
    {
      "cell_type": "code",
      "execution_count": null,
      "metadata": {
        "colab": {
          "base_uri": "https://localhost:8080/"
        },
        "id": "wMmgsRKrrD3G",
        "outputId": "0686b577-6119-4a1f-a03c-e90ce8900304"
      },
      "outputs": [
        {
          "output_type": "execute_result",
          "data": {
            "text/plain": [
              "0    48009\n",
              "1    47904\n",
              "Name: label, dtype: int64"
            ]
          },
          "metadata": {},
          "execution_count": 10
        }
      ],
      "source": [
        "df.label.value_counts()"
      ]
    },
    {
      "cell_type": "code",
      "execution_count": null,
      "metadata": {
        "colab": {
          "base_uri": "https://localhost:8080/"
        },
        "id": "izNI0WCYrJI_",
        "outputId": "811ef1ea-3a66-44b9-c9a7-0379b002f62f"
      },
      "outputs": [
        {
          "output_type": "execute_result",
          "data": {
            "text/plain": [
              "0    48009\n",
              "1    47904\n",
              "Name: label, dtype: int64"
            ]
          },
          "metadata": {},
          "execution_count": 11
        }
      ],
      "source": [
        "l = df.label.value_counts()\n",
        "l"
      ]
    },
    {
      "cell_type": "code",
      "execution_count": null,
      "metadata": {
        "colab": {
          "base_uri": "https://localhost:8080/",
          "height": 406
        },
        "id": "8tPUxoIvdvPf",
        "outputId": "a535ebcb-b4a8-4cc5-acd4-46d88e5ed38f"
      },
      "outputs": [
        {
          "output_type": "display_data",
          "data": {
            "text/plain": [
              "<Figure size 640x480 with 1 Axes>"
            ],
            "image/png": "[encoded data removed]"
          },
          "metadata": {}
        }
      ],
      "source": [
        "import matplotlib.pyplot as plt\n",
        "import numpy as np\n",
        "\n",
        "# Creating autocpt arguments\n",
        "def func(cls, allvalues):\n",
        "    absolute = int(cls / 100.*df.shape[0])\n",
        "    return \"{:.1f}%\\n({:d})\".format(cls, absolute)\n",
        "\n",
        "explode = (0.1, 0.0)\n",
        "\n",
        "# Wedge properties\n",
        "wp = { 'linewidth' : 1, 'edgecolor' : \"green\" }\n",
        "\n",
        "plt.pie((l/df.shape[0])*100,\n",
        "        labels=['Benign', 'Phishing'],\n",
        "        autopct= lambda pct: func(pct, l),\n",
        "        shadow = True,\n",
        "        startangle = 35,\n",
        "        explode = explode,\n",
        "        wedgeprops = wp)\n",
        "\n",
        "plt.show()"
      ]
    },
    {
      "cell_type": "code",
      "execution_count": null,
      "metadata": {
        "colab": {
          "base_uri": "https://localhost:8080/"
        },
        "id": "QTKxcVJDkOkm",
        "outputId": "183846a1-0803-428d-9055-ceff46f373eb"
      },
      "outputs": [
        {
          "output_type": "stream",
          "name": "stdout",
          "text": [
            "domain    'login.paypal.com.ummiecollections.com/Nouveau...\n",
            "label                                                     1\n",
            "Name: 1000, dtype: object\n"
          ]
        }
      ],
      "source": [
        "print(df.iloc[1000])"
      ]
    },
    {
      "cell_type": "code",
      "execution_count": null,
      "metadata": {
        "id": "2M8NqSyhwY-n"
      },
      "outputs": [],
      "source": [
        "vocab = {}\n",
        "max_len = 0\n",
        "sen_len = []\n",
        "\n",
        "for row in df.iterrows():\n",
        "  max_len = max(max_len, len(row[1]['domain']))\n",
        "  sen_len.append(len(row[1]['domain']))\n",
        "  for ch in row[1]['domain']:\n",
        "    if ch not in vocab.keys():\n",
        "      vocab[ch] = 1\n",
        "    else:\n",
        "      vocab[ch] += 1"
      ]
    },
    {
      "cell_type": "code",
      "execution_count": null,
      "metadata": {
        "colab": {
          "base_uri": "https://localhost:8080/"
        },
        "id": "Mn8kBj-IyT8P",
        "outputId": "a60a8e79-6f16-4583-fb04-d7cac644dd0f"
      },
      "outputs": [
        {
          "output_type": "execute_result",
          "data": {
            "text/plain": [
              "{'n': 219384,\n",
              " 'o': 289864,\n",
              " 'b': 124179,\n",
              " 'e': 383206,\n",
              " 'l': 188313,\n",
              " '.': 313531,\n",
              " 'i': 241397,\n",
              " 't': 260788,\n",
              " '/': 285364,\n",
              " '7': 60221,\n",
              " '0': 87240,\n",
              " 'f': 111676,\n",
              " '5': 80468,\n",
              " '2': 84597,\n",
              " 'd': 188747,\n",
              " '9': 59580,\n",
              " '1': 89793,\n",
              " 'c': 274429,\n",
              " 'a': 319155,\n",
              " '6': 69304,\n",
              " '4': 74644,\n",
              " '3': 96615,\n",
              " '8': 80972,\n",
              " 'g': 118175,\n",
              " 'S': 14119,\n",
              " 'k': 46297,\n",
              " 'y': 52688,\n",
              " 'P': 14252,\n",
              " 'm': 237192,\n",
              " '-': 62875,\n",
              " 'v': 39113,\n",
              " 'r': 205500,\n",
              " 'x': 40972,\n",
              " 'p': 179076,\n",
              " 'h': 119938,\n",
              " '?': 22538,\n",
              " '=': 40912,\n",
              " '_': 28030,\n",
              " '&': 20972,\n",
              " 'u': 116744,\n",
              " 's': 240104,\n",
              " 'w': 205123,\n",
              " 'j': 27422,\n",
              " 'z': 21522,\n",
              " 'H': 9456,\n",
              " 'D': 15626,\n",
              " 'J': 8591,\n",
              " 'N': 13168,\n",
              " ';': 17934,\n",
              " 'E': 11648,\n",
              " 'V': 9826,\n",
              " 'B': 12064,\n",
              " 'R': 10615,\n",
              " 'M': 13048,\n",
              " 'Q': 9431,\n",
              " 'L': 11925,\n",
              " 'I': 12909,\n",
              " '~': 5444,\n",
              " 'Z': 9197,\n",
              " 'O': 10206,\n",
              " 'X': 8611,\n",
              " 'T': 11642,\n",
              " 'F': 15282,\n",
              " 'U': 10291,\n",
              " 'C': 11788,\n",
              " 'A': 16126,\n",
              " 'q': 14426,\n",
              " 'G': 10279,\n",
              " 'Y': 10222,\n",
              " 'K': 7513,\n",
              " \"'\": 7816,\n",
              " '\\\\': 12802,\n",
              " '%': 12789,\n",
              " ' ': 296,\n",
              " 'W': 10025,\n",
              " ':': 1273,\n",
              " '@': 269,\n",
              " '#': 333,\n",
              " '+': 450,\n",
              " '(': 117,\n",
              " ')': 117,\n",
              " ',': 1128,\n",
              " '!': 63,\n",
              " '[': 18,\n",
              " ']': 17,\n",
              " '*': 30,\n",
              " '^': 27,\n",
              " '{': 9,\n",
              " '>': 2,\n",
              " '}': 7,\n",
              " '|': 158,\n",
              " '$': 18,\n",
              " '虠': 1,\n",
              " '�': 128,\n",
              " 'Ҏ': 1,\n",
              " '\\x1d': 1,\n",
              " '\\x02': 1,\n",
              " '<': 1,\n",
              " 'ϸ': 1,\n",
              " '\\x0f': 2,\n",
              " '\\x7f': 2,\n",
              " '\\x16': 2,\n",
              " '\\x19': 1,\n",
              " '\\x01': 2,\n",
              " 'ٛ': 1,\n",
              " '\\t': 3,\n",
              " '\\r': 1,\n",
              " 'ň': 1,\n",
              " '\\x06': 4,\n",
              " '\\x18': 1,\n",
              " 'ͧ': 1,\n",
              " '\\x08': 1,\n",
              " '˱': 1,\n",
              " '\\x11': 3,\n",
              " 'Վ': 1,\n",
              " '\\x1c': 1,\n",
              " '\\x1a': 2,\n",
              " '\\x1f': 1,\n",
              " '\\x13': 2,\n",
              " '\\x14': 2,\n",
              " '\\x04': 3,\n",
              " '\\x1e': 1,\n",
              " '\\U00105966': 1,\n",
              " 'ǡ': 1,\n",
              " '\\x05': 1,\n",
              " '`': 2}"
            ]
          },
          "metadata": {},
          "execution_count": 15
        }
      ],
      "source": [
        "vocab"
      ]
    },
    {
      "cell_type": "code",
      "execution_count": null,
      "metadata": {
        "colab": {
          "base_uri": "https://localhost:8080/",
          "height": 241
        },
        "id": "kWzvRtqhyscH",
        "outputId": "8a50b67a-3f9e-45e5-aadd-5b2db74b670b"
      },
      "outputs": [
        {
          "output_type": "error",
          "ename": "NameError",
          "evalue": "ignored",
          "traceback": [
            "\u001b[0;31m---------------------------------------------------------------------------\u001b[0m",
            "\u001b[0;31mNameError\u001b[0m                                 Traceback (most recent call last)",
            "\u001b[0;32m<ipython-input-1-8fc9269e8ac6>\u001b[0m in \u001b[0;36m<cell line: 1>\u001b[0;34m()\u001b[0m\n\u001b[0;32m----> 1\u001b[0;31m \u001b[0;32mfor\u001b[0m \u001b[0mkey\u001b[0m \u001b[0;32min\u001b[0m \u001b[0mvocab\u001b[0m\u001b[0;34m.\u001b[0m\u001b[0mcopy\u001b[0m\u001b[0;34m(\u001b[0m\u001b[0;34m)\u001b[0m\u001b[0;34m:\u001b[0m\u001b[0;34m\u001b[0m\u001b[0;34m\u001b[0m\u001b[0m\n\u001b[0m\u001b[1;32m      2\u001b[0m   \u001b[0;32mif\u001b[0m \u001b[0mvocab\u001b[0m\u001b[0;34m[\u001b[0m\u001b[0mkey\u001b[0m\u001b[0;34m]\u001b[0m\u001b[0;34m<=\u001b[0m\u001b[0;36m10\u001b[0m\u001b[0;34m:\u001b[0m\u001b[0;34m\u001b[0m\u001b[0;34m\u001b[0m\u001b[0m\n\u001b[1;32m      3\u001b[0m     \u001b[0mvocab\u001b[0m\u001b[0;34m.\u001b[0m\u001b[0mpop\u001b[0m\u001b[0;34m(\u001b[0m\u001b[0mkey\u001b[0m\u001b[0;34m)\u001b[0m\u001b[0;34m\u001b[0m\u001b[0;34m\u001b[0m\u001b[0m\n\u001b[1;32m      4\u001b[0m \u001b[0;34m\u001b[0m\u001b[0m\n\u001b[1;32m      5\u001b[0m \u001b[0mlen\u001b[0m\u001b[0;34m(\u001b[0m\u001b[0mvocab\u001b[0m\u001b[0;34m)\u001b[0m\u001b[0;34m\u001b[0m\u001b[0;34m\u001b[0m\u001b[0m\n",
            "\u001b[0;31mNameError\u001b[0m: name 'vocab' is not defined"
          ]
        }
      ],
      "source": [
        "for key in vocab.copy():\n",
        "  if vocab[key]<=10:\n",
        "    vocab.pop(key)\n",
        "\n",
        "len(vocab)"
      ]
    },
    {
      "cell_type": "code",
      "execution_count": null,
      "metadata": {
        "id": "iIXJDAOl0XlZ"
      },
      "outputs": [],
      "source": [
        "input_id = {}\n",
        "id2char = {}\n",
        "i=1\n",
        "for key in vocab:\n",
        "  if key != ' ' and key != '�':\n",
        "    input_id[key] = i\n",
        "    id2char[i] = key\n",
        "    i += 1"
      ]
    },
    {
      "cell_type": "code",
      "execution_count": null,
      "metadata": {
        "id": "3WaHy_741GC4"
      },
      "outputs": [],
      "source": [
        "input_id['<pad>'] = 0\n",
        "input_id['<unk>'] = i\n",
        "\n",
        "id2char[0] = '<pad>'\n",
        "id2char[i] = '<unk>'"
      ]
    },
    {
      "cell_type": "code",
      "execution_count": null,
      "metadata": {
        "colab": {
          "base_uri": "https://localhost:8080/"
        },
        "id": "wp8ASiTo1eoH",
        "outputId": "67163c3d-ab54-4c41-d25f-0231ddd1d76f"
      },
      "outputs": [
        {
          "output_type": "execute_result",
          "data": {
            "text/plain": [
              "{'n': 1,\n",
              " 'o': 2,\n",
              " 'b': 3,\n",
              " 'e': 4,\n",
              " 'l': 5,\n",
              " '.': 6,\n",
              " 'i': 7,\n",
              " 't': 8,\n",
              " '/': 9,\n",
              " '7': 10,\n",
              " '0': 11,\n",
              " 'f': 12,\n",
              " '5': 13,\n",
              " '2': 14,\n",
              " 'd': 15,\n",
              " '9': 16,\n",
              " '1': 17,\n",
              " 'c': 18,\n",
              " 'a': 19,\n",
              " '6': 20,\n",
              " '4': 21,\n",
              " '3': 22,\n",
              " '8': 23,\n",
              " 'g': 24,\n",
              " 'S': 25,\n",
              " 'k': 26,\n",
              " 'y': 27,\n",
              " 'P': 28,\n",
              " 'm': 29,\n",
              " '-': 30,\n",
              " 'v': 31,\n",
              " 'r': 32,\n",
              " 'x': 33,\n",
              " 'p': 34,\n",
              " 'h': 35,\n",
              " '?': 36,\n",
              " '=': 37,\n",
              " '_': 38,\n",
              " '&': 39,\n",
              " 'u': 40,\n",
              " 's': 41,\n",
              " 'w': 42,\n",
              " 'j': 43,\n",
              " 'z': 44,\n",
              " 'H': 45,\n",
              " 'D': 46,\n",
              " 'J': 47,\n",
              " 'N': 48,\n",
              " ';': 49,\n",
              " 'E': 50,\n",
              " 'V': 51,\n",
              " 'B': 52,\n",
              " 'R': 53,\n",
              " 'M': 54,\n",
              " 'Q': 55,\n",
              " 'L': 56,\n",
              " 'I': 57,\n",
              " '~': 58,\n",
              " 'Z': 59,\n",
              " 'O': 60,\n",
              " 'X': 61,\n",
              " 'T': 62,\n",
              " 'F': 63,\n",
              " 'U': 64,\n",
              " 'C': 65,\n",
              " 'A': 66,\n",
              " 'q': 67,\n",
              " 'G': 68,\n",
              " 'Y': 69,\n",
              " 'K': 70,\n",
              " \"'\": 71,\n",
              " '\\\\': 72,\n",
              " '%': 73,\n",
              " 'W': 74,\n",
              " ':': 75,\n",
              " '@': 76,\n",
              " '#': 77,\n",
              " '+': 78,\n",
              " '(': 79,\n",
              " ')': 80,\n",
              " ',': 81,\n",
              " '!': 82,\n",
              " '[': 83,\n",
              " ']': 84,\n",
              " '*': 85,\n",
              " '^': 86,\n",
              " '|': 87,\n",
              " '$': 88,\n",
              " '<pad>': 0,\n",
              " '<unk>': 89}"
            ]
          },
          "metadata": {},
          "execution_count": 19
        }
      ],
      "source": [
        "input_id"
      ]
    },
    {
      "cell_type": "code",
      "execution_count": null,
      "metadata": {
        "colab": {
          "base_uri": "https://localhost:8080/",
          "height": 519
        },
        "id": "UtR2ZJnQ2JYA",
        "outputId": "dfed2144-4c01-4567-c4a3-1d5625712738"
      },
      "outputs": [
        {
          "output_type": "execute_result",
          "data": {
            "text/plain": [
              "(array([9.2329e+04, 3.4820e+03, 8.2000e+01, 4.0000e+00, 1.4000e+01,\n",
              "        1.0000e+00, 0.0000e+00, 0.0000e+00, 0.0000e+00, 1.0000e+00]),\n",
              " array([   9. ,  225.6,  442.2,  658.8,  875.4, 1092. , 1308.6, 1525.2,\n",
              "        1741.8, 1958.4, 2175. ]),\n",
              " <BarContainer object of 10 artists>)"
            ]
          },
          "metadata": {},
          "execution_count": 20
        },
        {
          "output_type": "display_data",
          "data": {
            "text/plain": [
              "<Figure size 640x480 with 1 Axes>"
            ],
            "image/png": "[encoded data removed]"
          },
          "metadata": {}
        }
      ],
      "source": [
        "plt.hist(sen_len)"
      ]
    },
    {
      "cell_type": "code",
      "execution_count": null,
      "metadata": {
        "id": "DojS45Gj2dx7"
      },
      "outputs": [],
      "source": [
        "fixed_sen_len = 120"
      ]
    },
    {
      "cell_type": "markdown",
      "source": [
        "### Dataset-split&creation"
      ],
      "metadata": {
        "id": "ySWbNYBcocPJ"
      }
    },
    {
      "cell_type": "code",
      "source": [
        "from sklearn.model_selection import train_test_split\n",
        "\n",
        "df_train, df_test = train_test_split(df, test_size=0.3, random_state=0) # 70% training : 30% test\n",
        "df_val, df_test = train_test_split(df_test, test_size=0.5, random_state=0) # 15% validation : 15% test\n",
        "\n",
        "len(df_train), len(df_val), len(df_test)"
      ],
      "metadata": {
        "colab": {
          "base_uri": "https://localhost:8080/"
        },
        "id": "4HEHUk7sob47",
        "outputId": "3eed3ab9-914a-4f47-f9bc-27be481d6b36"
      },
      "execution_count": null,
      "outputs": [
        {
          "output_type": "execute_result",
          "data": {
            "text/plain": [
              "(67139, 14387, 14387)"
            ]
          },
          "metadata": {},
          "execution_count": 22
        }
      ]
    },
    {
      "cell_type": "code",
      "source": [
        "import tensorflow as tf\n",
        "\n",
        "class PhisingDataset(tf.keras.utils.Sequence):\n",
        "    def __init__(self, dataframe, vocab, fixed_sen_len):\n",
        "        self.dataframe = dataframe\n",
        "        self.fixed_sen_len = fixed_sen_len\n",
        "        self.vocab = vocab\n",
        "\n",
        "    def __len__(self):\n",
        "        return len(self.dataframe)\n",
        "\n",
        "    def __getitem__(self, index):\n",
        "        domain, label = self.dataframe.iloc[index]\n",
        "        # label_categorical = tf.one_hot(label, 2)\n",
        "\n",
        "        url_indices = [input_id[char] if char in self.vocab.keys() else self.vocab['<unk>'] for char in domain]\n",
        "        # [www.google.com~] [3 3 3 5 10 1 1 10 7 8 5 6 1 4 89 0 0 0 0 0 ...] 120\n",
        "        # padded_sequences = tf.keras.preprocessing.sequence.pad_sequences(url_indices, maxlen=self.fixed_sen_len)\n",
        "        padded_sequences = tf.keras.utils.pad_sequences([url_indices], padding='post', truncating='post', maxlen=fixed_sen_len)\n",
        "        padded_sequences = padded_sequences[0]\n",
        "\n",
        "        return padded_sequences, label"
      ],
      "metadata": {
        "id": "8gLayigLuE8f"
      },
      "execution_count": null,
      "outputs": []
    },
    {
      "cell_type": "code",
      "source": [
        "# Define the batch size\n",
        "batch_size = 16"
      ],
      "metadata": {
        "id": "XpMyvxRguZcb"
      },
      "execution_count": null,
      "outputs": []
    },
    {
      "cell_type": "code",
      "source": [
        "phising_dataset_train = PhisingDataset(df_train, input_id, fixed_sen_len)\n",
        "phising_dataset_val = PhisingDataset(df_val, input_id, fixed_sen_len)\n",
        "phising_dataset_test = PhisingDataset(df_test, input_id, fixed_sen_len)"
      ],
      "metadata": {
        "id": "wQtn3rB1udqw"
      },
      "execution_count": null,
      "outputs": []
    },
    {
      "cell_type": "code",
      "source": [
        "# Create a TensorFlow dataset from the custom dataset\n",
        "tf_dataset_train = tf.data.Dataset.from_generator(lambda: phising_dataset_train,\n",
        "                                                  output_signature=(tf.TensorSpec(shape=(fixed_sen_len, ), dtype=tf.int32),\n",
        "                                                                    tf.TensorSpec(shape=(), dtype=tf.int32)))\n",
        "\n",
        "tf_dataset_val = tf.data.Dataset.from_generator(lambda: phising_dataset_val,\n",
        "                                                output_signature=(tf.TensorSpec(shape=(fixed_sen_len,), dtype=tf.int32),\n",
        "                                                                  tf.TensorSpec(shape=(), dtype=tf.int32)))\n",
        "\n",
        "tf_dataset_test = tf.data.Dataset.from_generator(lambda: phising_dataset_test,\n",
        "                                                 output_signature=(tf.TensorSpec(shape=(fixed_sen_len,), dtype=tf.int32),\n",
        "                                                                    tf.TensorSpec(shape=(), dtype=tf.int32)))"
      ],
      "metadata": {
        "id": "xGkqIlTeulmN"
      },
      "execution_count": null,
      "outputs": []
    },
    {
      "cell_type": "code",
      "source": [
        "# Shuffle and batch the dataset\n",
        "tf_dataset_train = tf_dataset_train.shuffle(len(df_train)).batch(batch_size)\n",
        "\n",
        "tf_dataset_val = tf_dataset_val.shuffle(len(df_val)).batch(batch_size)\n",
        "\n",
        "tf_dataset_test = tf_dataset_test.shuffle(len(df_test)).batch(batch_size)"
      ],
      "metadata": {
        "id": "yzyR95ywxgfz"
      },
      "execution_count": null,
      "outputs": []
    },
    {
      "cell_type": "code",
      "source": [
        "for batch_domains, batch_labels in tf_dataset_train:\n",
        "  print(batch_domains.shape, batch_labels.shape)\n",
        "  break"
      ],
      "metadata": {
        "colab": {
          "base_uri": "https://localhost:8080/"
        },
        "id": "MoZJ2KwCxkYu",
        "outputId": "f54c2977-70a1-4523-81c4-262d90057d57"
      },
      "execution_count": null,
      "outputs": [
        {
          "output_type": "stream",
          "name": "stdout",
          "text": [
            "(16, 120) (16,)\n"
          ]
        }
      ]
    },
    {
      "cell_type": "markdown",
      "source": [
        "### normal attention"
      ],
      "metadata": {
        "id": "TZ1FMg2WC2Nv"
      }
    },
    {
      "cell_type": "code",
      "source": [
        "import tensorflow as tf\n",
        "from tensorflow import keras\n",
        "from tensorflow.keras.models import Sequential, Model\n",
        "from tensorflow.keras.layers import Dense, Dropout, Conv1D, Embedding, Input, GlobalAveragePooling1D, Concatenate, GlobalMaxPooling1D, LSTM, Dense, concatenate, Attention, Bidirectional\n",
        "from tensorflow.keras.optimizers import Adam"
      ],
      "metadata": {
        "id": "BMNEN5AxpjM3"
      },
      "execution_count": null,
      "outputs": []
    },
    {
      "cell_type": "code",
      "source": [
        "from tensorflow.keras.layers import Input, Embedding, Conv1D, GlobalMaxPooling1D, concatenate, Dense, Dropout, Bidirectional, LSTM, Add, LayerNormalization\n",
        "from tensorflow.keras.models import Model\n",
        "from tensorflow.keras.layers import MultiHeadAttention\n",
        "import tensorflow as tf\n",
        "\n",
        "def create_model(vocab_size, embedding_dim, input_length):\n",
        "    # Input layer\n",
        "    inputs = Input(shape=(input_length,))\n",
        "\n",
        "    # Embedding layer\n",
        "    embedding_layer = Embedding(input_dim=vocab_size,\n",
        "                                output_dim=embedding_dim,\n",
        "                                input_length=input_length,\n",
        "                                trainable=True)\n",
        "    embedded_sequences = embedding_layer(inputs)\n",
        "\n",
        "    # Convolutional Neural Network (CNN) layers\n",
        "    cnn_filters = [128, 128, 128]\n",
        "    cnn_kernel_sizes = [3, 4, 5]\n",
        "    conv_outputs = []\n",
        "\n",
        "    for i in range(len(cnn_filters)):\n",
        "        conv_layer = Conv1D(filters=cnn_filters[i],\n",
        "                            kernel_size=cnn_kernel_sizes[i],\n",
        "                            activation='relu')(embedded_sequences)\n",
        "\n",
        "        attented_feature = MultiHeadAttention(num_heads=3, key_dim=2)(embedded_sequences, conv_layer, conv_layer)\n",
        "\n",
        "        pool_layer = GlobalMaxPooling1D()(attented_feature)\n",
        "        conv_outputs.append(pool_layer)\n",
        "\n",
        "    cnn_output = Concatenate()(conv_outputs)\n",
        "\n",
        "    # LSTM layer\n",
        "    bilstm_units = 64\n",
        "    lstm_layer = tf.keras.layers.LSTM(64, return_sequences=True)\n",
        "    bilstm_layer_1 = Bidirectional(lstm_layer)(embedded_sequences)\n",
        "    bilstm_output = GlobalMaxPooling1D()(bilstm_layer_1)\n",
        "\n",
        "    # Concatenate CNN and LSTM outputs\n",
        "    concatenated = concatenate([cnn_output, bilstm_output])\n",
        "\n",
        "    # Fully connected layers\n",
        "    fc1 = Dense(64, activation='relu')(concatenated)\n",
        "    dropout = Dropout(0.5)(fc1)\n",
        "    fc2 = Dense(32, activation='relu')(dropout)\n",
        "\n",
        "    # Classifier\n",
        "    output = Dense(1, activation='sigmoid')(fc2)\n",
        "\n",
        "    model = Model(inputs=inputs, outputs=output)\n",
        "\n",
        "    return model"
      ],
      "metadata": {
        "id": "Dfs1BpJjpSbD"
      },
      "execution_count": null,
      "outputs": []
    },
    {
      "cell_type": "code",
      "source": [
        "model = create_model(len(vocab), 90, fixed_sen_len)\n",
        "model.summary()"
      ],
      "metadata": {
        "colab": {
          "base_uri": "https://localhost:8080/"
        },
        "id": "TXym9GnTtLLN",
        "outputId": "f4eb0214-d013-402d-8da6-2cd7e123980c"
      },
      "execution_count": null,
      "outputs": [
        {
          "output_type": "stream",
          "name": "stdout",
          "text": [
            "Model: \"model\"\n",
            "__________________________________________________________________________________________________\n",
            " Layer (type)                   Output Shape         Param #     Connected to                     \n",
            "==================================================================================================\n",
            " input_1 (InputLayer)           [(None, 120)]        0           []                               \n",
            "                                                                                                  \n",
            " embedding (Embedding)          (None, 120, 90)      8100        ['input_1[0][0]']                \n",
            "                                                                                                  \n",
            " conv1d (Conv1D)                (None, 118, 128)     34688       ['embedding[0][0]']              \n",
            "                                                                                                  \n",
            " conv1d_1 (Conv1D)              (None, 117, 128)     46208       ['embedding[0][0]']              \n",
            "                                                                                                  \n",
            " conv1d_2 (Conv1D)              (None, 116, 128)     57728       ['embedding[0][0]']              \n",
            "                                                                                                  \n",
            " multi_head_attention (MultiHea  (None, 120, 90)     2724        ['embedding[0][0]',              \n",
            " dAttention)                                                      'conv1d[0][0]',                 \n",
            "                                                                  'conv1d[0][0]']                 \n",
            "                                                                                                  \n",
            " multi_head_attention_1 (MultiH  (None, 120, 90)     2724        ['embedding[0][0]',              \n",
            " eadAttention)                                                    'conv1d_1[0][0]',               \n",
            "                                                                  'conv1d_1[0][0]']               \n",
            "                                                                                                  \n",
            " multi_head_attention_2 (MultiH  (None, 120, 90)     2724        ['embedding[0][0]',              \n",
            " eadAttention)                                                    'conv1d_2[0][0]',               \n",
            "                                                                  'conv1d_2[0][0]']               \n",
            "                                                                                                  \n",
            " global_max_pooling1d (GlobalMa  (None, 90)          0           ['multi_head_attention[0][0]']   \n",
            " xPooling1D)                                                                                      \n",
            "                                                                                                  \n",
            " global_max_pooling1d_1 (Global  (None, 90)          0           ['multi_head_attention_1[0][0]'] \n",
            " MaxPooling1D)                                                                                    \n",
            "                                                                                                  \n",
            " global_max_pooling1d_2 (Global  (None, 90)          0           ['multi_head_attention_2[0][0]'] \n",
            " MaxPooling1D)                                                                                    \n",
            "                                                                                                  \n",
            " bidirectional (Bidirectional)  (None, 120, 128)     79360       ['embedding[0][0]']              \n",
            "                                                                                                  \n",
            " concatenate (Concatenate)      (None, 270)          0           ['global_max_pooling1d[0][0]',   \n",
            "                                                                  'global_max_pooling1d_1[0][0]', \n",
            "                                                                  'global_max_pooling1d_2[0][0]'] \n",
            "                                                                                                  \n",
            " global_max_pooling1d_3 (Global  (None, 128)         0           ['bidirectional[0][0]']          \n",
            " MaxPooling1D)                                                                                    \n",
            "                                                                                                  \n",
            " concatenate_1 (Concatenate)    (None, 398)          0           ['concatenate[0][0]',            \n",
            "                                                                  'global_max_pooling1d_3[0][0]'] \n",
            "                                                                                                  \n",
            " dense (Dense)                  (None, 64)           25536       ['concatenate_1[0][0]']          \n",
            "                                                                                                  \n",
            " dropout (Dropout)              (None, 64)           0           ['dense[0][0]']                  \n",
            "                                                                                                  \n",
            " dense_1 (Dense)                (None, 32)           2080        ['dropout[0][0]']                \n",
            "                                                                                                  \n",
            " dense_2 (Dense)                (None, 1)            33          ['dense_1[0][0]']                \n",
            "                                                                                                  \n",
            "==================================================================================================\n",
            "Total params: 261,905\n",
            "Trainable params: 261,905\n",
            "Non-trainable params: 0\n",
            "__________________________________________________________________________________________________\n"
          ]
        }
      ]
    },
    {
      "cell_type": "code",
      "source": [
        "model.compile(optimizer=tf.keras.optimizers.Adam(),\n",
        "             loss=tf.keras.losses.BinaryCrossentropy(),\n",
        "             metrics=['accuracy'])"
      ],
      "metadata": {
        "id": "S1IwLH5G0tRQ"
      },
      "execution_count": null,
      "outputs": []
    },
    {
      "cell_type": "code",
      "source": [
        "history = model.fit(tf_dataset_train,\n",
        "                    validation_data=tf_dataset_val,\n",
        "                    epochs=20)"
      ],
      "metadata": {
        "colab": {
          "base_uri": "https://localhost:8080/"
        },
        "id": "768m6sIQx7lI",
        "outputId": "54cf1bea-5508-4f31-cca1-c7497011d69d"
      },
      "execution_count": null,
      "outputs": [
        {
          "output_type": "stream",
          "name": "stdout",
          "text": [
            "Epoch 1/20\n",
            "4197/4197 [==============================] - 139s 23ms/step - loss: 0.2375 - accuracy: 0.9008 - val_loss: 0.1584 - val_accuracy: 0.9380\n",
            "Epoch 2/20\n",
            "4197/4197 [==============================] - 114s 22ms/step - loss: 0.1115 - accuracy: 0.9601 - val_loss: 0.1812 - val_accuracy: 0.9272\n",
            "Epoch 3/20\n",
            "4197/4197 [==============================] - 104s 19ms/step - loss: 0.0852 - accuracy: 0.9694 - val_loss: 0.0843 - val_accuracy: 0.9698\n",
            "Epoch 4/20\n",
            "4197/4197 [==============================] - 104s 19ms/step - loss: 0.0717 - accuracy: 0.9746 - val_loss: 0.0759 - val_accuracy: 0.9725\n",
            "Epoch 5/20\n",
            "4197/4197 [==============================] - 104s 19ms/step - loss: 0.0601 - accuracy: 0.9785 - val_loss: 0.0764 - val_accuracy: 0.9734\n",
            "Epoch 6/20\n",
            "4197/4197 [==============================] - 104s 19ms/step - loss: 0.0512 - accuracy: 0.9822 - val_loss: 0.0686 - val_accuracy: 0.9767\n",
            "Epoch 7/20\n",
            "4197/4197 [==============================] - 114s 22ms/step - loss: 0.0450 - accuracy: 0.9841 - val_loss: 0.0618 - val_accuracy: 0.9778\n",
            "Epoch 8/20\n",
            "4197/4197 [==============================] - 105s 20ms/step - loss: 0.0389 - accuracy: 0.9867 - val_loss: 0.0615 - val_accuracy: 0.9783\n",
            "Epoch 9/20\n",
            "4197/4197 [==============================] - 114s 22ms/step - loss: 0.0351 - accuracy: 0.9879 - val_loss: 0.0717 - val_accuracy: 0.9759\n",
            "Epoch 10/20\n",
            "4197/4197 [==============================] - 105s 19ms/step - loss: 0.0297 - accuracy: 0.9896 - val_loss: 0.0720 - val_accuracy: 0.9769\n",
            "Epoch 11/20\n",
            "4197/4197 [==============================] - 105s 20ms/step - loss: 0.0272 - accuracy: 0.9905 - val_loss: 0.0582 - val_accuracy: 0.9791\n",
            "Epoch 12/20\n",
            "4197/4197 [==============================] - 105s 20ms/step - loss: 0.0238 - accuracy: 0.9912 - val_loss: 0.0641 - val_accuracy: 0.9783\n",
            "Epoch 13/20\n",
            "4197/4197 [==============================] - 105s 20ms/step - loss: 0.0213 - accuracy: 0.9928 - val_loss: 0.0645 - val_accuracy: 0.9786\n",
            "Epoch 14/20\n",
            "4197/4197 [==============================] - 105s 19ms/step - loss: 0.0183 - accuracy: 0.9937 - val_loss: 0.0724 - val_accuracy: 0.9761\n",
            "Epoch 15/20\n",
            "4197/4197 [==============================] - 105s 20ms/step - loss: 0.0161 - accuracy: 0.9943 - val_loss: 0.0764 - val_accuracy: 0.9790\n",
            "Epoch 16/20\n",
            "4197/4197 [==============================] - 105s 20ms/step - loss: 0.0153 - accuracy: 0.9943 - val_loss: 0.0692 - val_accuracy: 0.9771\n",
            "Epoch 17/20\n",
            "4197/4197 [==============================] - 106s 20ms/step - loss: 0.0147 - accuracy: 0.9952 - val_loss: 0.0863 - val_accuracy: 0.9726\n",
            "Epoch 18/20\n",
            "4197/4197 [==============================] - 104s 19ms/step - loss: 0.0134 - accuracy: 0.9955 - val_loss: 0.0788 - val_accuracy: 0.9776\n",
            "Epoch 19/20\n",
            "4197/4197 [==============================] - 105s 19ms/step - loss: 0.0125 - accuracy: 0.9959 - val_loss: 0.0787 - val_accuracy: 0.9778\n",
            "Epoch 20/20\n",
            "4197/4197 [==============================] - 103s 19ms/step - loss: 0.0120 - accuracy: 0.9957 - val_loss: 0.0864 - val_accuracy: 0.9787\n"
          ]
        }
      ]
    },
    {
      "cell_type": "code",
      "source": [
        "eval = model.evaluate(tf_dataset_test)\n",
        "eval"
      ],
      "metadata": {
        "colab": {
          "base_uri": "https://localhost:8080/"
        },
        "id": "RncSda010raR",
        "outputId": "d333bff1-dcc6-4514-c1d0-cab177aa070c"
      },
      "execution_count": null,
      "outputs": [
        {
          "output_type": "stream",
          "name": "stdout",
          "text": [
            "900/900 [==============================] - 16s 11ms/step - loss: 0.0877 - accuracy: 0.9807\n"
          ]
        },
        {
          "output_type": "execute_result",
          "data": {
            "text/plain": [
              "[0.08772590011358261, 0.9806770086288452]"
            ]
          },
          "metadata": {},
          "execution_count": 34
        }
      ]
    },
    {
      "cell_type": "code",
      "source": [
        "model.save('/content/drive/MyDrive/cnn_lstm_attention_final.h5')"
      ],
      "metadata": {
        "id": "aef5tuTYL8KO"
      },
      "execution_count": null,
      "outputs": []
    },
    {
      "cell_type": "code",
      "source": [
        "y_pred, y_test = [], []\n",
        "for idx, row in df_test.iterrows():\n",
        "  domain, label = row\n",
        "  url_indices = [input_id[char] if char in input_id.keys() else input_id['<unk>'] for char in domain]\n",
        "  padded_sequences = tf.keras.utils.pad_sequences([url_indices], padding='post', truncating='post', maxlen=fixed_sen_len)\n",
        "  # padded_sequences = padded_sequences[0]\n",
        "  y_pred.append(model.predict(padded_sequences, verbose=0)>0.5)\n",
        "  y_test.append(label)"
      ],
      "metadata": {
        "id": "2E_4XSzpMYsv"
      },
      "execution_count": null,
      "outputs": []
    },
    {
      "cell_type": "code",
      "source": [
        "# from itertools import chain\n",
        "# y_pred = list(chain(*y_pred))\n",
        "# y_pred = list(chain(*y_pred))\n",
        "y_pred = [0 if x==False else 1 for x in y_pred]\n",
        "y_pred[:5]"
      ],
      "metadata": {
        "colab": {
          "base_uri": "https://localhost:8080/"
        },
        "id": "4ERD5S0SURFK",
        "outputId": "70ed2e00-6be3-4cbb-afd6-7def624f202b"
      },
      "execution_count": null,
      "outputs": [
        {
          "output_type": "execute_result",
          "data": {
            "text/plain": [
              "[1, 0, 1, 0, 0]"
            ]
          },
          "metadata": {},
          "execution_count": 37
        }
      ]
    },
    {
      "cell_type": "code",
      "source": [
        "from sklearn.metrics import classification_report\n",
        "\n",
        "print(classification_report(y_test, y_pred))"
      ],
      "metadata": {
        "colab": {
          "base_uri": "https://localhost:8080/"
        },
        "id": "f9hoF4tgO9tC",
        "outputId": "e8ceaeb0-3df8-45e2-ad8b-33a30eb9e6f0"
      },
      "execution_count": null,
      "outputs": [
        {
          "output_type": "stream",
          "name": "stdout",
          "text": [
            "              precision    recall  f1-score   support\n",
            "\n",
            "           0       0.98      0.98      0.98      7204\n",
            "           1       0.98      0.98      0.98      7183\n",
            "\n",
            "    accuracy                           0.98     14387\n",
            "   macro avg       0.98      0.98      0.98     14387\n",
            "weighted avg       0.98      0.98      0.98     14387\n",
            "\n"
          ]
        }
      ]
    },
    {
      "cell_type": "code",
      "source": [
        "plt.plot(history.history['accuracy'])\n",
        "plt.plot(history.history['val_accuracy'])\n",
        "plt.title('model accuracy')\n",
        "plt.ylabel('accuracy')\n",
        "plt.xlabel('epoch')\n",
        "plt.legend(['train', 'test'], loc='upper left')\n",
        "plt.show()"
      ],
      "metadata": {
        "colab": {
          "base_uri": "https://localhost:8080/",
          "height": 472
        },
        "id": "-DxRiCXxVXLZ",
        "outputId": "c97b3c67-20bd-439b-cf98-6b7d923d6b87"
      },
      "execution_count": null,
      "outputs": [
        {
          "output_type": "display_data",
          "data": {
            "text/plain": [
              "<Figure size 640x480 with 1 Axes>"
            ],
            "image/png": "[encoded data removed]"
          },
          "metadata": {}
        }
      ]
    },
    {
      "cell_type": "code",
      "source": [
        "plt.plot(history.history['loss'])\n",
        "plt.plot(history.history['val_loss'])\n",
        "plt.title('model loss')\n",
        "plt.ylabel('loss')\n",
        "plt.xlabel('epoch')\n",
        "plt.legend(['train', 'test'], loc='upper left')\n",
        "plt.show()"
      ],
      "metadata": {
        "colab": {
          "base_uri": "https://localhost:8080/",
          "height": 472
        },
        "id": "ATUSRW5TVn9Q",
        "outputId": "7338bb2f-a9e4-40aa-a1aa-f0acfd67cbc8"
      },
      "execution_count": null,
      "outputs": [
        {
          "output_type": "display_data",
          "data": {
            "text/plain": [
              "<Figure size 640x480 with 1 Axes>"
            ],
            "image/png": "[encoded data removed]"
          },
          "metadata": {}
        }
      ]
    },
    {
      "cell_type": "code",
      "source": [
        "import matplotlib.pyplot as plt\n",
        "import seaborn as sns\n",
        "from sklearn.metrics import confusion_matrix\n",
        "\n",
        "# Compute the confusion matrix\n",
        "cm = confusion_matrix(y_test, y_pred)\n",
        "\n",
        "# Create a heatmap of the confusion matrix\n",
        "sns.heatmap(cm, annot=True, fmt=\"d\", cmap=\"Blues\")\n",
        "\n",
        "# Set labels, title, and ticks\n",
        "plt.xlabel(\"Predicted labels\")\n",
        "plt.ylabel(\"True labels\")\n",
        "plt.title(\"Confusion Matrix\")\n",
        "\n",
        "plt.show()"
      ],
      "metadata": {
        "colab": {
          "base_uri": "https://localhost:8080/",
          "height": 472
        },
        "id": "8vdwiSHiOL8C",
        "outputId": "94e76389-6142-42a7-9777-968e1e239108"
      },
      "execution_count": null,
      "outputs": [
        {
          "output_type": "display_data",
          "data": {
            "text/plain": [
              "<Figure size 640x480 with 2 Axes>"
            ],
            "image/png": "[encoded data removed]"
          },
          "metadata": {}
        }
      ]
    },
    {
      "cell_type": "markdown",
      "source": [
        "### multihead attention"
      ],
      "metadata": {
        "id": "ewIXrFxgC5yR"
      }
    },
    {
      "cell_type": "code",
      "source": [
        "from tensorflow.keras.layers import Input, Embedding, Conv1D, GlobalMaxPooling1D, concatenate, Dense, Dropout, Bidirectional, LSTM, Add, LayerNormalization\n",
        "from tensorflow.keras.models import Model\n",
        "from tensorflow.keras.layers import MultiHeadAttention\n",
        "import tensorflow as tf\n",
        "\n",
        "def create_model(vocab_size, embedding_dim, input_length):\n",
        "    # Input layer\n",
        "    inputs = Input(shape=(input_length,))\n",
        "\n",
        "    # Embedding layer\n",
        "    embedding_layer = Embedding(input_dim=vocab_size,\n",
        "                                output_dim=embedding_dim,\n",
        "                                input_length=input_length,\n",
        "                                trainable=True)\n",
        "    embedded_sequences = embedding_layer(inputs)\n",
        "\n",
        "    cnn_filters = [128, 128, 128]\n",
        "    cnn_kernel_sizes = [3, 4, 5]\n",
        "    conv_outputs = []\n",
        "\n",
        "    for i in range(len(cnn_filters)):\n",
        "        conv_layer = Conv1D(filters=cnn_filters[i],\n",
        "                            kernel_size=cnn_kernel_sizes[i],\n",
        "                            activation='relu')(embedded_sequences)\n",
        "\n",
        "        attented_feature = MultiHeadAttention(num_heads=3, key_dim=2)(embedded_sequences, conv_layer, conv_layer)\n",
        "\n",
        "        # conv_in = Add()([embedded_sequences, conv_in])\n",
        "\n",
        "        # conv_in = LayerNormalization()(conv_in)\n",
        "\n",
        "        pool_layer = GlobalMaxPooling1D()(attented_feature)\n",
        "        conv_outputs.append(pool_layer)\n",
        "\n",
        "    cnn_output = concatenate(conv_outputs)\n",
        "\n",
        "    # BiLSTM layer\n",
        "    bilstm_units = 64\n",
        "    lstm_layer = LSTM(bilstm_units, return_sequences=True)\n",
        "    bilstm_layer = Bidirectional(lstm_layer)(embedded_sequences)\n",
        "\n",
        "    pool_layer_2 = GlobalMaxPooling1D()(bilstm_layer)\n",
        "\n",
        "    # Concatenate CNN output and attention output\n",
        "    concatenated = concatenate([cnn_output, pool_layer_2])\n",
        "\n",
        "    # Fully connected layers\n",
        "    fc1 = Dense(64, activation='relu')(concatenated)\n",
        "    dropout = Dropout(0.5)(fc1)\n",
        "    fc2 = Dense(32, activation='relu')(dropout)\n",
        "\n",
        "    # Classifier\n",
        "    output = Dense(1, activation='sigmoid')(fc2)\n",
        "\n",
        "    model = Model(inputs=inputs, outputs=output)\n",
        "\n",
        "    return model\n"
      ],
      "metadata": {
        "id": "Wp4JTpP_VrLk"
      },
      "execution_count": null,
      "outputs": []
    },
    {
      "cell_type": "code",
      "source": [
        "model = create_model(len(vocab), 90, fixed_sen_len)\n",
        "model.summary()"
      ],
      "metadata": {
        "colab": {
          "base_uri": "https://localhost:8080/"
        },
        "id": "axfckeuNDE5V",
        "outputId": "0ad132f0-eaaf-4324-caa4-68d95b8f6b86"
      },
      "execution_count": null,
      "outputs": [
        {
          "output_type": "stream",
          "name": "stdout",
          "text": [
            "Model: \"model_3\"\n",
            "__________________________________________________________________________________________________\n",
            " Layer (type)                   Output Shape         Param #     Connected to                     \n",
            "==================================================================================================\n",
            " input_5 (InputLayer)           [(None, 120)]        0           []                               \n",
            "                                                                                                  \n",
            " embedding_4 (Embedding)        (None, 120, 90)      8100        ['input_5[0][0]']                \n",
            "                                                                                                  \n",
            " conv1d_10 (Conv1D)             (None, 118, 128)     34688       ['embedding_4[0][0]']            \n",
            "                                                                                                  \n",
            " conv1d_11 (Conv1D)             (None, 117, 128)     46208       ['embedding_4[0][0]']            \n",
            "                                                                                                  \n",
            " conv1d_12 (Conv1D)             (None, 116, 128)     57728       ['embedding_4[0][0]']            \n",
            "                                                                                                  \n",
            " multi_head_attention_10 (Multi  (None, 120, 90)     2724        ['embedding_4[0][0]',            \n",
            " HeadAttention)                                                   'conv1d_10[0][0]',              \n",
            "                                                                  'conv1d_10[0][0]']              \n",
            "                                                                                                  \n",
            " multi_head_attention_11 (Multi  (None, 120, 90)     2724        ['embedding_4[0][0]',            \n",
            " HeadAttention)                                                   'conv1d_11[0][0]',              \n",
            "                                                                  'conv1d_11[0][0]']              \n",
            "                                                                                                  \n",
            " multi_head_attention_12 (Multi  (None, 120, 90)     2724        ['embedding_4[0][0]',            \n",
            " HeadAttention)                                                   'conv1d_12[0][0]',              \n",
            "                                                                  'conv1d_12[0][0]']              \n",
            "                                                                                                  \n",
            " global_max_pooling1d_12 (Globa  (None, 90)          0           ['multi_head_attention_10[0][0]']\n",
            " lMaxPooling1D)                                                                                   \n",
            "                                                                                                  \n",
            " global_max_pooling1d_13 (Globa  (None, 90)          0           ['multi_head_attention_11[0][0]']\n",
            " lMaxPooling1D)                                                                                   \n",
            "                                                                                                  \n",
            " global_max_pooling1d_14 (Globa  (None, 90)          0           ['multi_head_attention_12[0][0]']\n",
            " lMaxPooling1D)                                                                                   \n",
            "                                                                                                  \n",
            " bidirectional_3 (Bidirectional  (None, 120, 128)    79360       ['embedding_4[0][0]']            \n",
            " )                                                                                                \n",
            "                                                                                                  \n",
            " concatenate_6 (Concatenate)    (None, 270)          0           ['global_max_pooling1d_12[0][0]',\n",
            "                                                                  'global_max_pooling1d_13[0][0]',\n",
            "                                                                  'global_max_pooling1d_14[0][0]']\n",
            "                                                                                                  \n",
            " global_max_pooling1d_15 (Globa  (None, 128)         0           ['bidirectional_3[0][0]']        \n",
            " lMaxPooling1D)                                                                                   \n",
            "                                                                                                  \n",
            " concatenate_7 (Concatenate)    (None, 398)          0           ['concatenate_6[0][0]',          \n",
            "                                                                  'global_max_pooling1d_15[0][0]']\n",
            "                                                                                                  \n",
            " dense_9 (Dense)                (None, 64)           25536       ['concatenate_7[0][0]']          \n",
            "                                                                                                  \n",
            " dropout_3 (Dropout)            (None, 64)           0           ['dense_9[0][0]']                \n",
            "                                                                                                  \n",
            " dense_10 (Dense)               (None, 32)           2080        ['dropout_3[0][0]']              \n",
            "                                                                                                  \n",
            " dense_11 (Dense)               (None, 1)            33          ['dense_10[0][0]']               \n",
            "                                                                                                  \n",
            "==================================================================================================\n",
            "Total params: 261,905\n",
            "Trainable params: 261,905\n",
            "Non-trainable params: 0\n",
            "__________________________________________________________________________________________________\n"
          ]
        }
      ]
    },
    {
      "cell_type": "code",
      "source": [
        "model.compile(optimizer=tf.keras.optimizers.Adam(),\n",
        "             loss=tf.keras.losses.BinaryCrossentropy(),\n",
        "             metrics=['accuracy'])\n",
        "\n",
        "history = model.fit(tf_dataset_train,\n",
        "                    validation_data=tf_dataset_val,\n",
        "                    epochs=20)"
      ],
      "metadata": {
        "colab": {
          "base_uri": "https://localhost:8080/"
        },
        "id": "1SoaWAfJDFz8",
        "outputId": "403c60f6-6157-4019-aacc-97f0686c0e4b"
      },
      "execution_count": null,
      "outputs": [
        {
          "output_type": "stream",
          "name": "stdout",
          "text": [
            "Epoch 1/20\n",
            "4197/4197 [==============================] - 129s 22ms/step - loss: 0.2372 - accuracy: 0.9015 - val_loss: 0.1366 - val_accuracy: 0.9477\n",
            "Epoch 2/20\n",
            "4197/4197 [==============================] - 113s 21ms/step - loss: 0.1165 - accuracy: 0.9576 - val_loss: 0.1052 - val_accuracy: 0.9625\n",
            "Epoch 3/20\n",
            "4197/4197 [==============================] - 110s 21ms/step - loss: 0.0861 - accuracy: 0.9685 - val_loss: 0.0866 - val_accuracy: 0.9682\n",
            "Epoch 4/20\n",
            "4197/4197 [==============================] - 110s 21ms/step - loss: 0.0734 - accuracy: 0.9741 - val_loss: 0.0803 - val_accuracy: 0.9701\n",
            "Epoch 5/20\n",
            "4197/4197 [==============================] - 113s 21ms/step - loss: 0.0613 - accuracy: 0.9780 - val_loss: 0.0864 - val_accuracy: 0.9691\n",
            "Epoch 6/20\n",
            "4197/4197 [==============================] - 114s 22ms/step - loss: 0.0542 - accuracy: 0.9809 - val_loss: 0.0729 - val_accuracy: 0.9732\n",
            "Epoch 7/20\n",
            "4197/4197 [==============================] - 110s 21ms/step - loss: 0.0457 - accuracy: 0.9833 - val_loss: 0.0684 - val_accuracy: 0.9739\n",
            "Epoch 8/20\n",
            "4197/4197 [==============================] - 113s 21ms/step - loss: 0.0416 - accuracy: 0.9848 - val_loss: 0.0709 - val_accuracy: 0.9767\n",
            "Epoch 9/20\n",
            "4197/4197 [==============================] - 112s 21ms/step - loss: 0.0358 - accuracy: 0.9874 - val_loss: 0.0746 - val_accuracy: 0.9718\n",
            "Epoch 10/20\n",
            "4197/4197 [==============================] - 111s 21ms/step - loss: 0.0302 - accuracy: 0.9898 - val_loss: 0.0668 - val_accuracy: 0.9777\n",
            "Epoch 11/20\n",
            "4197/4197 [==============================] - 110s 21ms/step - loss: 0.0260 - accuracy: 0.9906 - val_loss: 0.0909 - val_accuracy: 0.9697\n",
            "Epoch 12/20\n",
            "4197/4197 [==============================] - 113s 21ms/step - loss: 0.0239 - accuracy: 0.9919 - val_loss: 0.0688 - val_accuracy: 0.9785\n",
            "Epoch 13/20\n",
            "4197/4197 [==============================] - 111s 21ms/step - loss: 0.0206 - accuracy: 0.9926 - val_loss: 0.0687 - val_accuracy: 0.9783\n",
            "Epoch 14/20\n",
            "4197/4197 [==============================] - 112s 21ms/step - loss: 0.0194 - accuracy: 0.9930 - val_loss: 0.0675 - val_accuracy: 0.9801\n",
            "Epoch 15/20\n",
            "4197/4197 [==============================] - 111s 21ms/step - loss: 0.0181 - accuracy: 0.9941 - val_loss: 0.0745 - val_accuracy: 0.9785\n",
            "Epoch 16/20\n",
            "4197/4197 [==============================] - 113s 21ms/step - loss: 0.0158 - accuracy: 0.9944 - val_loss: 0.0721 - val_accuracy: 0.9777\n",
            "Epoch 17/20\n",
            "4197/4197 [==============================] - 109s 21ms/step - loss: 0.0162 - accuracy: 0.9948 - val_loss: 0.0706 - val_accuracy: 0.9797\n",
            "Epoch 18/20\n",
            "4197/4197 [==============================] - 111s 21ms/step - loss: 0.0135 - accuracy: 0.9952 - val_loss: 0.0733 - val_accuracy: 0.9775\n",
            "Epoch 19/20\n",
            "4197/4197 [==============================] - 110s 21ms/step - loss: 0.0144 - accuracy: 0.9949 - val_loss: 0.0670 - val_accuracy: 0.9795\n",
            "Epoch 20/20\n",
            "4197/4197 [==============================] - 113s 21ms/step - loss: 0.0115 - accuracy: 0.9960 - val_loss: 0.0845 - val_accuracy: 0.9796\n"
          ]
        }
      ]
    },
    {
      "cell_type": "code",
      "source": [
        "eval = model.evaluate(tf_dataset_test)\n",
        "eval"
      ],
      "metadata": {
        "id": "pnldmPhRErML",
        "colab": {
          "base_uri": "https://localhost:8080/"
        },
        "outputId": "53a275d3-4192-46b2-a11c-c28f42e42dd1"
      },
      "execution_count": null,
      "outputs": [
        {
          "output_type": "stream",
          "name": "stdout",
          "text": [
            "900/900 [==============================] - 11s 6ms/step - loss: 0.0776 - accuracy: 0.9803\n"
          ]
        },
        {
          "output_type": "execute_result",
          "data": {
            "text/plain": [
              "[0.07763513922691345, 0.9802599549293518]"
            ]
          },
          "metadata": {},
          "execution_count": 44
        }
      ]
    },
    {
      "cell_type": "code",
      "source": [
        "y_pred, y_test = [], []\n",
        "for idx, row in df_test.iterrows():\n",
        "  domain, label = row\n",
        "  url_indices = [input_id[char] if char in input_id.keys() else input_id['<unk>'] for char in domain]\n",
        "  padded_sequences = tf.keras.utils.pad_sequences([url_indices], padding='post', truncating='post', maxlen=fixed_sen_len)\n",
        "  # padded_sequences = padded_sequences[0]\n",
        "  y_pred.append(model.predict(padded_sequences, verbose=0)>0.5)\n",
        "  y_test.append(label)"
      ],
      "metadata": {
        "id": "Ihl_VV2A12-n"
      },
      "execution_count": null,
      "outputs": []
    },
    {
      "cell_type": "code",
      "source": [
        "y_pred = [0 if x==False else 1 for x in y_pred]\n",
        "y_pred[:5]"
      ],
      "metadata": {
        "colab": {
          "base_uri": "https://localhost:8080/"
        },
        "id": "Qoh2jXGw2MKD",
        "outputId": "a0b3fad0-112c-4d5e-c182-60770e754338"
      },
      "execution_count": null,
      "outputs": [
        {
          "output_type": "execute_result",
          "data": {
            "text/plain": [
              "[1, 0, 1, 0, 0]"
            ]
          },
          "metadata": {},
          "execution_count": 57
        }
      ]
    },
    {
      "cell_type": "code",
      "source": [
        "from sklearn.metrics import classification_report\n",
        "\n",
        "print(classification_report(y_test, y_pred))"
      ],
      "metadata": {
        "colab": {
          "base_uri": "https://localhost:8080/"
        },
        "id": "x0dGB9pv2WY-",
        "outputId": "f00df8be-3969-4758-aeac-c3c12770388c"
      },
      "execution_count": null,
      "outputs": [
        {
          "output_type": "stream",
          "name": "stdout",
          "text": [
            "              precision    recall  f1-score   support\n",
            "\n",
            "           0       0.97      0.99      0.98      7204\n",
            "           1       0.99      0.97      0.98      7183\n",
            "\n",
            "    accuracy                           0.98     14387\n",
            "   macro avg       0.98      0.98      0.98     14387\n",
            "weighted avg       0.98      0.98      0.98     14387\n",
            "\n"
          ]
        }
      ]
    },
    {
      "cell_type": "code",
      "source": [
        "plt.plot(history.history['accuracy'])\n",
        "plt.plot(history.history['val_accuracy'])\n",
        "plt.title('model accuracy')\n",
        "plt.ylabel('accuracy')\n",
        "plt.xlabel('epoch')\n",
        "plt.legend(['train', 'test'], loc='upper left')\n",
        "plt.show()"
      ],
      "metadata": {
        "colab": {
          "base_uri": "https://localhost:8080/",
          "height": 472
        },
        "id": "dgDKx3iN2a5i",
        "outputId": "1074d05a-9b51-4cff-dc80-4d884cb70d6a"
      },
      "execution_count": null,
      "outputs": [
        {
          "output_type": "display_data",
          "data": {
            "text/plain": [
              "<Figure size 640x480 with 1 Axes>"
            ],
            "image/png": "[encoded data removed]"
          },
          "metadata": {}
        }
      ]
    },
    {
      "cell_type": "code",
      "source": [
        "plt.plot(history.history['loss'])\n",
        "plt.plot(history.history['val_loss'])\n",
        "plt.title('model loss')\n",
        "plt.ylabel('loss')\n",
        "plt.xlabel('epoch')\n",
        "plt.legend(['train', 'test'], loc='upper left')\n",
        "plt.show()"
      ],
      "metadata": {
        "colab": {
          "base_uri": "https://localhost:8080/",
          "height": 472
        },
        "id": "84bgBsM72bnH",
        "outputId": "0f937b89-48b0-4499-b490-e8103f745239"
      },
      "execution_count": null,
      "outputs": [
        {
          "output_type": "display_data",
          "data": {
            "text/plain": [
              "<Figure size 640x480 with 1 Axes>"
            ],
            "image/png": "[encoded data removed]"
          },
          "metadata": {}
        }
      ]
    },
    {
      "cell_type": "code",
      "source": [
        "import matplotlib.pyplot as plt\n",
        "import seaborn as sns\n",
        "from sklearn.metrics import confusion_matrix\n",
        "\n",
        "# Compute the confusion matrix\n",
        "cm = confusion_matrix(y_test, y_pred)\n",
        "\n",
        "# Create a heatmap of the confusion matrix\n",
        "sns.heatmap(cm, annot=True, fmt=\"d\", cmap=\"Blues\")\n",
        "\n",
        "# Set labels, title, and ticks\n",
        "plt.xlabel(\"Predicted labels\")\n",
        "plt.ylabel(\"True labels\")\n",
        "plt.title(\"Confusion Matrix\")\n",
        "\n",
        "plt.show()"
      ],
      "metadata": {
        "colab": {
          "base_uri": "https://localhost:8080/",
          "height": 472
        },
        "id": "sFiWi8KU3FUS",
        "outputId": "cf1b195e-bb94-4ec5-90e4-c94f3dca069d"
      },
      "execution_count": null,
      "outputs": [
        {
          "output_type": "display_data",
          "data": {
            "text/plain": [
              "<Figure size 640x480 with 2 Axes>"
            ],
            "image/png": "[encoded data removed]"
          },
          "metadata": {}
        }
      ]
    },
    {
      "cell_type": "code",
      "source": [
        "model.save('/content/drive/MyDrive/cnn_bilstm_single_multihead_3_attention.h5')"
      ],
      "metadata": {
        "id": "LYaKfTIT3EwU"
      },
      "execution_count": null,
      "outputs": []
    },
    {
      "cell_type": "code",
      "source": [],
      "metadata": {
        "id": "OjN3xIQC9Omk"
      },
      "execution_count": null,
      "outputs": []
    }
  ],
  "metadata": {
    "colab": {
      "provenance": [],
      "gpuType": "T4"
    },
    "kernelspec": {
      "display_name": "Python 3",
      "name": "python3"
    },
    "language_info": {
      "name": "python"
    },
    "accelerator": "GPU",
    "gpuClass": "standard"
  },
  "nbformat": 4,
  "nbformat_minor": 0
}